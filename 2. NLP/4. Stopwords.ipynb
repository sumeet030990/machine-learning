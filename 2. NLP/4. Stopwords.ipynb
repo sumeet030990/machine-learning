{
 "cells": [
  {
   "cell_type": "code",
   "execution_count": 17,
   "metadata": {},
   "outputs": [
    {
     "name": "stderr",
     "output_type": "stream",
     "text": [
      "[nltk_data] Downloading package stopwords to\n",
      "[nltk_data]     /Users/sumeetjadhav/nltk_data...\n",
      "[nltk_data]   Package stopwords is already up-to-date!\n"
     ]
    }
   ],
   "source": [
    "from nltk.stem import SnowballStemmer, PorterStemmer, WordNetLemmatizer\n",
    "import nltk\n",
    "from nltk.corpus import stopwords\n",
    " \n",
    "nltk.download('stopwords')\n",
    "\n",
    "corpus = \"The majestic mountains provide a breathtaking view.The quick brown fox jumps over the lazy dog.\""
   ]
  },
  {
   "cell_type": "code",
   "execution_count": 27,
   "metadata": {},
   "outputs": [
    {
     "name": "stdout",
     "output_type": "stream",
     "text": [
      "<class 'list'>\n"
     ]
    }
   ],
   "source": [
    "sentences = nltk.sent_tokenize(corpus)\n",
    "english_stopwords = set(stopwords.words('english'))"
   ]
  },
  {
   "cell_type": "markdown",
   "metadata": {},
   "source": [
    "#### Using PorterStemmer"
   ]
  },
  {
   "cell_type": "code",
   "execution_count": 41,
   "metadata": {},
   "outputs": [
    {
     "name": "stdout",
     "output_type": "stream",
     "text": [
      "['majest mountain provid breathtak view.th quick brown fox jump lazi dog .']\n"
     ]
    }
   ],
   "source": [
    "stemmer = PorterStemmer()\n",
    "sentences = nltk.sent_tokenize(corpus)\n",
    "for index, sentence in enumerate(sentences):\n",
    "  words = nltk.word_tokenize(sentence)\n",
    "  \n",
    "  ## stem those word only which are not stopwords i.e not present in english_stopwords\n",
    "  words = [stemmer.stem(word) for word in words if word.lower() not in english_stopwords]\n",
    "  sentences[index] = ' '.join(words) ## converting all words in sentences\n",
    "\n",
    "print(sentences)\n"
   ]
  },
  {
   "cell_type": "markdown",
   "metadata": {},
   "source": [
    "#### Using SnowballStemmer"
   ]
  },
  {
   "cell_type": "code",
   "execution_count": 40,
   "metadata": {},
   "outputs": [
    {
     "name": "stdout",
     "output_type": "stream",
     "text": [
      "['majest mountain provid breathtak view.th quick brown fox jump lazi dog .']\n"
     ]
    }
   ],
   "source": [
    "stemmer = SnowballStemmer('english')\n",
    "sentences = nltk.sent_tokenize(corpus)\n",
    "for index, sentence in enumerate(sentences):\n",
    "  words = nltk.word_tokenize(sentence)\n",
    "  \n",
    "  ## stem those word only which are not stopwords i.e not present in english_stopwords\n",
    "  words = [stemmer.stem(word.lower()) for word in words if word.lower() not in english_stopwords]\n",
    "  sentences[index] = ' '.join(words) ## converting all words in sentences\n",
    "\n",
    "print(sentences)\n"
   ]
  },
  {
   "cell_type": "markdown",
   "metadata": {},
   "source": [
    "#### Using WordNetLemmatizer "
   ]
  },
  {
   "cell_type": "code",
   "execution_count": 37,
   "metadata": {},
   "outputs": [
    {
     "name": "stdout",
     "output_type": "stream",
     "text": [
      "['majestic mountain provide breathtaking view.The quick brown fox jump lazy dog .']\n"
     ]
    }
   ],
   "source": [
    "lemmatizer = WordNetLemmatizer()\n",
    "sentences = nltk.sent_tokenize(corpus)\n",
    "for index, sentence in enumerate(sentences):\n",
    "  words = nltk.word_tokenize(sentence)\n",
    "  \n",
    "  ## stem those word only which are not stopwords i.e not present in english_stopwords\n",
    "  words = [lemmatizer.lemmatize(word) for word in words if word.lower() not in english_stopwords]\n",
    "  sentences[index] = ' '.join(words) ## converting all words in sentences\n",
    "\n",
    "print(sentences)"
   ]
  },
  {
   "cell_type": "code",
   "execution_count": null,
   "metadata": {},
   "outputs": [],
   "source": []
  }
 ],
 "metadata": {
  "kernelspec": {
   "display_name": "base",
   "language": "python",
   "name": "python3"
  },
  "language_info": {
   "codemirror_mode": {
    "name": "ipython",
    "version": 3
   },
   "file_extension": ".py",
   "mimetype": "text/x-python",
   "name": "python",
   "nbconvert_exporter": "python",
   "pygments_lexer": "ipython3",
   "version": "3.12.7"
  }
 },
 "nbformat": 4,
 "nbformat_minor": 2
}
