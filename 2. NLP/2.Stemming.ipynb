{
 "cells": [
  {
   "cell_type": "code",
   "execution_count": 5,
   "metadata": {},
   "outputs": [],
   "source": [
    "words = [\"eating\", \"eat\", 'eaten',\"writing\", \"write\",\"wrote\", \"history\"]"
   ]
  },
  {
   "cell_type": "markdown",
   "metadata": {},
   "source": [
    "## Porter Stemmer"
   ]
  },
  {
   "cell_type": "code",
   "execution_count": 2,
   "metadata": {},
   "outputs": [],
   "source": [
    "from nltk.stem import PorterStemmer\n",
    "\n",
    "stemming = PorterStemmer()"
   ]
  },
  {
   "cell_type": "code",
   "execution_count": 6,
   "metadata": {},
   "outputs": [
    {
     "name": "stdout",
     "output_type": "stream",
     "text": [
      "word eating ---> eat\n",
      "word eat ---> eat\n",
      "word eaten ---> eaten\n",
      "word writing ---> write\n",
      "word write ---> write\n",
      "word wrote ---> wrote\n",
      "word history ---> histori\n"
     ]
    }
   ],
   "source": [
    "for word in words:\n",
    "  print(f\"word {word} ---> {stemming.stem(word)}\")"
   ]
  },
  {
   "cell_type": "markdown",
   "metadata": {},
   "source": [
    "## Regular expression Stemmer"
   ]
  },
  {
   "cell_type": "code",
   "execution_count": 7,
   "metadata": {},
   "outputs": [
    {
     "name": "stdout",
     "output_type": "stream",
     "text": [
      "eat\n",
      "ingeat\n"
     ]
    }
   ],
   "source": [
    "\n",
    "from nltk.stem import RegexpStemmer\n",
    "\n",
    "regexp_stemmer = RegexpStemmer('ing$|s$|e$|able$', min=4)\n",
    "\n",
    "print(regexp_stemmer.stem('eating')) ## eat\n",
    "print(regexp_stemmer.stem('ingeating')) ## ingeat"
   ]
  },
  {
   "cell_type": "markdown",
   "metadata": {},
   "source": [
    "## Snowball Stemmer"
   ]
  },
  {
   "cell_type": "code",
   "execution_count": 9,
   "metadata": {},
   "outputs": [
    {
     "name": "stdout",
     "output_type": "stream",
     "text": [
      "word eating ---> eat\n",
      "word eat ---> eat\n",
      "word eaten ---> eaten\n",
      "word writing ---> write\n",
      "word write ---> write\n",
      "word wrote ---> wrote\n",
      "word history ---> histori\n"
     ]
    }
   ],
   "source": [
    "from nltk.stem import SnowballStemmer\n",
    "\n",
    "stemming = SnowballStemmer(\"english\")\n",
    "\n",
    "for word in words:\n",
    "  print(f\"word {word} ---> {stemming.stem(word)}\")"
   ]
  },
  {
   "cell_type": "code",
   "execution_count": null,
   "metadata": {},
   "outputs": [],
   "source": []
  }
 ],
 "metadata": {
  "kernelspec": {
   "display_name": "base",
   "language": "python",
   "name": "python3"
  },
  "language_info": {
   "codemirror_mode": {
    "name": "ipython",
    "version": 3
   },
   "file_extension": ".py",
   "mimetype": "text/x-python",
   "name": "python",
   "nbconvert_exporter": "python",
   "pygments_lexer": "ipython3",
   "version": "3.12.7"
  }
 },
 "nbformat": 4,
 "nbformat_minor": 2
}
